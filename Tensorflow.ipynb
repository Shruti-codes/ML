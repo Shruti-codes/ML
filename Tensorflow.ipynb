{
  "nbformat": 4,
  "nbformat_minor": 0,
  "metadata": {
    "colab": {
      "name": "Tensorflow.ipynb",
      "provenance": [],
      "collapsed_sections": [],
      "authorship_tag": "ABX9TyMLsNwMNxOa3RvXwbjrPUai",
      "include_colab_link": true
    },
    "kernelspec": {
      "name": "python3",
      "display_name": "Python 3"
    }
  },
  "cells": [
    {
      "cell_type": "markdown",
      "metadata": {
        "id": "view-in-github",
        "colab_type": "text"
      },
      "source": [
        "<a href=\"https://colab.research.google.com/github/Shruti-codes/ML/blob/master/Tensorflow.ipynb\" target=\"_parent\"><img src=\"https://colab.research.google.com/assets/colab-badge.svg\" alt=\"Open In Colab\"/></a>"
      ]
    },
    {
      "cell_type": "code",
      "metadata": {
        "id": "kt4QvryxT79j",
        "colab_type": "code",
        "outputId": "34c03411-6c66-475c-bec6-98e744ccd5ee",
        "colab": {
          "base_uri": "https://localhost:8080/",
          "height": 34
        }
      },
      "source": [
        "import tensorflow as tf\n",
        "import numpy as np\n",
        "print(tf.__version__)"
      ],
      "execution_count": 7,
      "outputs": [
        {
          "output_type": "stream",
          "text": [
            "2.2.0\n"
          ],
          "name": "stdout"
        }
      ]
    },
    {
      "cell_type": "code",
      "metadata": {
        "id": "vzJwUSJaU5Q3",
        "colab_type": "code",
        "colab": {}
      },
      "source": [
        "hello = tf.constant(\"Hello World\")\n",
        "hello\n",
        "\n",
        "a = tf.constant(2)\n",
        "b = tf.constant(3)\n",
        "\n",
        "c = tf.add(a,b)\n",
        "c\n",
        "\n",
        "mean = tf.reduce_mean([a,b,c])\n",
        "mean\n",
        "\n",
        "sum = tf.reduce_sum([a,b,c])\n"
      ],
      "execution_count": 0,
      "outputs": []
    },
    {
      "cell_type": "code",
      "metadata": {
        "id": "wPr8vj5NV87a",
        "colab_type": "code",
        "outputId": "e8c047d2-4639-4baf-9a1b-ee649eff4cff",
        "colab": {
          "base_uri": "https://localhost:8080/",
          "height": 68
        }
      },
      "source": [
        "mat1 = tf.constant([[1. , 2.] , [3., 4.]])\n",
        "mat2 = tf.constant([[1. , 2.] , [3., 4.]])\n",
        "mat3 = tf.matmul(mat1, mat2)\n",
        "mat3"
      ],
      "execution_count": 9,
      "outputs": [
        {
          "output_type": "execute_result",
          "data": {
            "text/plain": [
              "<tf.Tensor: shape=(2, 2), dtype=float32, numpy=\n",
              "array([[ 7., 10.],\n",
              "       [15., 22.]], dtype=float32)>"
            ]
          },
          "metadata": {
            "tags": []
          },
          "execution_count": 9
        }
      ]
    },
    {
      "cell_type": "code",
      "metadata": {
        "id": "hHVHAoADYIED",
        "colab_type": "code",
        "outputId": "5ab60782-3d59-4403-b3ac-7da42abc1b16",
        "colab": {
          "base_uri": "https://localhost:8080/",
          "height": 71
        }
      },
      "source": [
        "#Linear Regression\n",
        "\n",
        "#generate data\n",
        "import numpy as np\n",
        "import seaborn\n",
        "X = 2*np.random.rand(100,1) #generate data between 0-2\n",
        "y = 3*X+4 + np.random.randn(100,1)"
      ],
      "execution_count": 10,
      "outputs": [
        {
          "output_type": "stream",
          "text": [
            "/usr/local/lib/python3.6/dist-packages/statsmodels/tools/_testing.py:19: FutureWarning: pandas.util.testing is deprecated. Use the functions in the public API at pandas.testing instead.\n",
            "  import pandas.util.testing as tm\n"
          ],
          "name": "stderr"
        }
      ]
    },
    {
      "cell_type": "code",
      "metadata": {
        "id": "ncZtwjBdYwpZ",
        "colab_type": "code",
        "outputId": "9e30901e-03e3-4d0f-d75f-0238d3e680c6",
        "colab": {
          "base_uri": "https://localhost:8080/",
          "height": 265
        }
      },
      "source": [
        "#visualise data\n",
        "%matplotlib inline\n",
        "import matplotlib.pyplot as plt\n",
        "\n",
        "plt.scatter(X,y)\n",
        "plt.show()\n",
        "\n",
        "n_samples = 1000\n",
        "batch_size = 50"
      ],
      "execution_count": 11,
      "outputs": [
        {
          "output_type": "display_data",
          "data": {
            "image/png": "[encoded data removed]",
            "text/plain": [
              "<Figure size 432x288 with 1 Axes>"
            ]
          },
          "metadata": {
            "tags": [],
            "needs_background": "light"
          }
        }
      ]
    },
    {
      "cell_type": "code",
      "metadata": {
        "id": "DnLiBrlfZvGi",
        "colab_type": "code",
        "colab": {}
      },
      "source": [
        "#forward function\n",
        "def linear_reg(X,W,b):\n",
        "  return tf.add(tf.multiply(X,W),b)\n",
        "\n",
        "def mean_square(y_pred, y_true):\n",
        "  return tf.reduce_mean(tf.square(y_pred - y_true))"
      ],
      "execution_count": 0,
      "outputs": []
    },
    {
      "cell_type": "code",
      "metadata": {
        "id": "VKHoP7p8mq5C",
        "colab_type": "code",
        "colab": {}
      },
      "source": [
        "W = tf.Variable(np.random.randn(), name=\"weights\")\n",
        "b = tf.Variable(np.random.randn(), \"bias\")\n",
        "\n",
        "optim = tf.keras.optimizers.SGD(learning_rate=0.01, momentum=0.0, nesterov=False, name='SGD')\n",
        "\n",
        "#optimization function\n",
        "def run_optimization(X,y,W,b):\n",
        "  with tf.GradientTape() as g:\n",
        "    pred = linear_reg(X,W,b)\n",
        "    loss = mean_square(pred, y)\n",
        "  \n",
        "  grad = g.gradient(loss, [W,b])    #compute gradient\n",
        "  \n",
        "  optim.apply_gradients(zip(grad, [W,b]))    #update gradient"
      ],
      "execution_count": 0,
      "outputs": []
    },
    {
      "cell_type": "code",
      "metadata": {
        "id": "iQBA53C_kbvz",
        "colab_type": "code",
        "outputId": "bcfcb272-b0be-4510-97e0-1ea01b8d9b85",
        "colab": {
          "base_uri": "https://localhost:8080/",
          "height": 357
        }
      },
      "source": [
        "for step in range(1,n_samples+1):\n",
        "  run_optimization(X,y,W,b)\n",
        "\n",
        "  if(step%batch_size==0):\n",
        "    pred = linear_reg(X,W,b)\n",
        "    loss = mean_square(pred,y)\n",
        "    print(\"step = %i , loss = %f , weight = %f , bias = %f\" % (step,loss,W.numpy(),b.numpy()))"
      ],
      "execution_count": 14,
      "outputs": [
        {
          "output_type": "stream",
          "text": [
            "step = 50 , loss = 1.667858 , weight = 2.929140 , bias = 3.380615\n",
            "step = 100 , loss = 1.314144 , weight = 3.180823 , bias = 3.634578\n",
            "step = 150 , loss = 1.308665 , weight = 3.186231 , bias = 3.682102\n",
            "step = 200 , loss = 1.306989 , weight = 3.170738 , bias = 3.706464\n",
            "step = 250 , loss = 1.305786 , weight = 3.155565 , bias = 3.725729\n",
            "step = 300 , loss = 1.304907 , weight = 3.142410 , bias = 3.742048\n",
            "step = 350 , loss = 1.304264 , weight = 3.131147 , bias = 3.755984\n",
            "step = 400 , loss = 1.303795 , weight = 3.121516 , bias = 3.767896\n",
            "step = 450 , loss = 1.303452 , weight = 3.113284 , bias = 3.778079\n",
            "step = 500 , loss = 1.303201 , weight = 3.106246 , bias = 3.786783\n",
            "step = 550 , loss = 1.303018 , weight = 3.100230 , bias = 3.794224\n",
            "step = 600 , loss = 1.302884 , weight = 3.095087 , bias = 3.800585\n",
            "step = 650 , loss = 1.302786 , weight = 3.090691 , bias = 3.806022\n",
            "step = 700 , loss = 1.302714 , weight = 3.086932 , bias = 3.810671\n",
            "step = 750 , loss = 1.302662 , weight = 3.083720 , bias = 3.814643\n",
            "step = 800 , loss = 1.302624 , weight = 3.080974 , bias = 3.818040\n",
            "step = 850 , loss = 1.302596 , weight = 3.078627 , bias = 3.820944\n",
            "step = 900 , loss = 1.302576 , weight = 3.076620 , bias = 3.823426\n",
            "step = 950 , loss = 1.302561 , weight = 3.074904 , bias = 3.825548\n",
            "step = 1000 , loss = 1.302550 , weight = 3.073437 , bias = 3.827363\n"
          ],
          "name": "stdout"
        }
      ]
    },
    {
      "cell_type": "code",
      "metadata": {
        "id": "zss0X06NtaG5",
        "colab_type": "code",
        "outputId": "5e8d706a-4e5c-4132-ec3e-1475e93486ea",
        "colab": {
          "base_uri": "https://localhost:8080/",
          "height": 265
        }
      },
      "source": [
        "plt.plot(X,y,\"b.\", label = 'data point')\n",
        "plt.plot(X, linear_reg(X,W,b),\"r-\", label = 'fit line')\n",
        "plt.legend()\n",
        "plt.show()"
      ],
      "execution_count": 15,
      "outputs": [
        {
          "output_type": "display_data",
          "data": {
            "image/png": "[encoded data removed]",
            "text/plain": [
              "<Figure size 432x288 with 1 Axes>"
            ]
          },
          "metadata": {
            "tags": [],
            "needs_background": "light"
          }
        }
      ]
    },
    {
      "cell_type": "code",
      "metadata": {
        "id": "6A88a0KuvUgD",
        "colab_type": "code",
        "colab": {}
      },
      "source": [
        "#Logistic Regression\n",
        "\n",
        "mnist = tf.keras.datasets.mnist\n",
        "(X_train, y_train) , (X_test, y_test) = mnist.load_data()\n",
        "n_class = 10\n",
        "n_feature = 784   #28*28\n",
        "\n",
        "X_train , X_test = np.array(X_train, np.float32) , np.array(X_test , np.float32)\n",
        "X_train, X_test = X_train.reshape([-1,n_feature]) , X_test.reshape([-1,n_feature])    #Flatten\n",
        "X_train , X_test = X_train/255.0 , X_test/255.0"
      ],
      "execution_count": 0,
      "outputs": []
    },
    {
      "cell_type": "code",
      "metadata": {
        "id": "moPfJdpEzQxj",
        "colab_type": "code",
        "colab": {}
      },
      "source": [
        "def logic_reg(X,W,b):\n",
        "  return tf.nn.softmax(tf.add(tf.matmul(X,W),b))\n",
        "\n",
        "def cross_entropy(pred,true):\n",
        "  true = tf.one_hot(true, depth = n_class)\n",
        "  pred = tf.clip_by_value(pred, 1e-9, 1.)\n",
        "\n",
        "  return tf.reduce_mean(-tf.reduce_sum(true*tf.math.log(pred), 1))\n",
        "\n",
        "def accuracy(pred, true):\n",
        "  corr_pred = tf.equal(tf.argmax(pred, 1), tf.cast(true, tf.int64))\n",
        "  return tf.reduce_mean(tf.cast(corr_pred, tf.float32))"
      ],
      "execution_count": 0,
      "outputs": []
    },
    {
      "cell_type": "code",
      "metadata": {
        "id": "uLwk5cBb2diP",
        "colab_type": "code",
        "colab": {}
      },
      "source": [
        "optim = tf.keras.optimizers.SGD(learning_rate=0.01, momentum=0.0, nesterov=False, name='SGD')\n",
        "\n",
        "#optimization function\n",
        "def run_optimization(X,y,W,b):\n",
        "  with tf.GradientTape() as g:\n",
        "    pred = logic_reg(X,W,b)\n",
        "    loss = cross_entropy(pred, y)\n",
        "  \n",
        "  grad = g.gradient(loss, [W,b])    #compute gradient\n",
        "  \n",
        "  optim.apply_gradients(zip(grad, [W,b]))    #update gradient"
      ],
      "execution_count": 0,
      "outputs": []
    },
    {
      "cell_type": "code",
      "metadata": {
        "id": "SxTB6_Yz2vo8",
        "colab_type": "code",
        "outputId": "93a7ae66-810a-447d-8616-8a7e9318d433",
        "colab": {
          "base_uri": "https://localhost:8080/",
          "height": 357
        }
      },
      "source": [
        "n_samples = 1000\n",
        "batch_size = 256\n",
        "skip = 50\n",
        "\n",
        "train_data = tf.data.Dataset.from_tensor_slices((X_train, y_train))\n",
        "train_data = train_data.repeat().shuffle(5000).batch(batch_size).prefetch(1)\n",
        "\n",
        "W = tf.Variable(tf.ones([n_feature,n_class]), name=\"weights\")\n",
        "b = tf.Variable(tf.zeros([n_class]), \"bias\")\n",
        "\n",
        "for step, (X,y) in enumerate(train_data.take(n_samples),1):\n",
        "  run_optimization(X,y,W,b)\n",
        "\n",
        "  if(step%skip==0):\n",
        "    pred = logic_reg(X,W,b)\n",
        "    loss = cross_entropy(pred,y)\n",
        "    acc = accuracy(pred,y)\n",
        "    print(\"step = %i , loss = %f , acc = %f\" % (step,loss,acc))"
      ],
      "execution_count": 19,
      "outputs": [
        {
          "output_type": "stream",
          "text": [
            "step = 50 , loss = 1.857653 , acc = 0.730469\n",
            "step = 100 , loss = 1.572894 , acc = 0.781250\n",
            "step = 150 , loss = 1.343828 , acc = 0.804688\n",
            "step = 200 , loss = 1.221603 , acc = 0.824219\n",
            "step = 250 , loss = 1.110375 , acc = 0.832031\n",
            "step = 300 , loss = 0.940485 , acc = 0.847656\n",
            "step = 350 , loss = 0.920927 , acc = 0.851562\n",
            "step = 400 , loss = 0.873659 , acc = 0.816406\n",
            "step = 450 , loss = 0.773116 , acc = 0.878906\n",
            "step = 500 , loss = 0.836472 , acc = 0.816406\n",
            "step = 550 , loss = 0.705570 , acc = 0.855469\n",
            "step = 600 , loss = 0.784936 , acc = 0.839844\n",
            "step = 650 , loss = 0.666795 , acc = 0.875000\n",
            "step = 700 , loss = 0.638387 , acc = 0.878906\n",
            "step = 750 , loss = 0.669325 , acc = 0.890625\n",
            "step = 800 , loss = 0.681839 , acc = 0.839844\n",
            "step = 850 , loss = 0.607958 , acc = 0.878906\n",
            "step = 900 , loss = 0.615679 , acc = 0.859375\n",
            "step = 950 , loss = 0.572287 , acc = 0.894531\n",
            "step = 1000 , loss = 0.705779 , acc = 0.828125\n"
          ],
          "name": "stdout"
        }
      ]
    },
    {
      "cell_type": "code",
      "metadata": {
        "id": "XN-D1yobvZkt",
        "colab_type": "code",
        "outputId": "062f1509-dd39-48dc-bbee-6879ff9b7d81",
        "colab": {
          "base_uri": "https://localhost:8080/",
          "height": 34
        }
      },
      "source": [
        "pred = logic_reg(X_test, W,b)\n",
        "print(\"Accuracy = %f\" %accuracy(pred, y_test))"
      ],
      "execution_count": 20,
      "outputs": [
        {
          "output_type": "stream",
          "text": [
            "Accuracy = 0.870300\n"
          ],
          "name": "stdout"
        }
      ]
    },
    {
      "cell_type": "code",
      "metadata": {
        "id": "1O1Fok_hyfEb",
        "colab_type": "code",
        "colab": {
          "base_uri": "https://localhost:8080/",
          "height": 239
        },
        "outputId": "16d78c38-8c83-41a4-aa59-a9140e5820f5"
      },
      "source": [
        "#visualise data\n",
        "%matplotlib inline\n",
        "import matplotlib.pyplot as plt\n",
        "\n",
        "rows = 1\n",
        "cols = 5\n",
        "fig = plt.gcf()\n",
        "fig.set_size_inches(cols*4, rows*4)\n",
        "\n",
        "n = 5\n",
        "test = X_test[:n]\n",
        "pred = logic_reg(test, W,b)\n",
        "\n",
        "for i in range(n):\n",
        "  sp = plt.subplot(rows, cols, i+1, title = 'Pred = %i' % np.argmax(pred.numpy()[i]))\n",
        "  sp.axis('Off')\n",
        "  plt.imshow(np.reshape(test[i], [28,28]))\n",
        "\n",
        "plt.show()"
      ],
      "execution_count": 23,
      "outputs": [
        {
          "output_type": "display_data",
          "data": {
            "image/png": "[encoded data removed]",
            "text/plain": [
              "<Figure size 1440x288 with 5 Axes>"
            ]
          },
          "metadata": {
            "tags": [],
            "needs_background": "light"
          }
        }
      ]
    },
    {
      "cell_type": "code",
      "metadata": {
        "id": "CoEMTSy60_Ma",
        "colab_type": "code",
        "colab": {
          "base_uri": "https://localhost:8080/",
          "height": 1000
        },
        "outputId": "80d6016d-a0d0-43f2-bdb1-a7217a276849"
      },
      "source": [
        "#Neural Networks\n",
        "\n",
        "model = tf.keras.models.Sequential([tf.keras.layers.Flatten(input_shape =(28,28)),\n",
        "                                    tf.keras.layers.Dense(units=128,activation ='relu'),\n",
        "                                    tf.keras.layers.Dense(units=10, activation='softmax')])\n",
        "\n",
        "model.compile(optimizer=tf.keras.optimizers.SGD(0.01),loss = tf.keras.losses.SparseCategoricalCrossentropy(from_logits=True), metrics = ['accuracy'])\n",
        "model.summary()\n",
        "model.fit(X_train, y_train, epochs =20)"
      ],
      "execution_count": 31,
      "outputs": [
        {
          "output_type": "stream",
          "text": [
            "Model: \"sequential_9\"\n",
            "_________________________________________________________________\n",
            "Layer (type)                 Output Shape              Param #   \n",
            "=================================================================\n",
            "flatten_8 (Flatten)          (None, 784)               0         \n",
            "_________________________________________________________________\n",
            "dense_16 (Dense)             (None, 128)               100480    \n",
            "_________________________________________________________________\n",
            "dense_17 (Dense)             (None, 10)                1290      \n",
            "=================================================================\n",
            "Total params: 101,770\n",
            "Trainable params: 101,770\n",
            "Non-trainable params: 0\n",
            "_________________________________________________________________\n",
            "Epoch 1/20\n",
            "WARNING:tensorflow:Model was constructed with shape (None, 28, 28) for input Tensor(\"flatten_8_input:0\", shape=(None, 28, 28), dtype=float32), but it was called on an input with incompatible shape (32, 784).\n",
            "WARNING:tensorflow:Model was constructed with shape (None, 28, 28) for input Tensor(\"flatten_8_input:0\", shape=(None, 28, 28), dtype=float32), but it was called on an input with incompatible shape (32, 784).\n",
            "1875/1875 [==============================] - 3s 2ms/step - loss: 2.0272 - accuracy: 0.5671\n",
            "Epoch 2/20\n",
            "1875/1875 [==============================] - 3s 2ms/step - loss: 1.7882 - accuracy: 0.7195\n",
            "Epoch 3/20\n",
            "1875/1875 [==============================] - 3s 2ms/step - loss: 1.7168 - accuracy: 0.7908\n",
            "Epoch 4/20\n",
            "1875/1875 [==============================] - 3s 2ms/step - loss: 1.6731 - accuracy: 0.8219\n",
            "Epoch 5/20\n",
            "1875/1875 [==============================] - 3s 2ms/step - loss: 1.6578 - accuracy: 0.8284\n",
            "Epoch 6/20\n",
            "1875/1875 [==============================] - 3s 2ms/step - loss: 1.6490 - accuracy: 0.8325\n",
            "Epoch 7/20\n",
            "1875/1875 [==============================] - 3s 2ms/step - loss: 1.6428 - accuracy: 0.8357\n",
            "Epoch 8/20\n",
            "1875/1875 [==============================] - 3s 2ms/step - loss: 1.6382 - accuracy: 0.8379\n",
            "Epoch 9/20\n",
            "1875/1875 [==============================] - 4s 2ms/step - loss: 1.6342 - accuracy: 0.8404\n",
            "Epoch 10/20\n",
            "1875/1875 [==============================] - 3s 2ms/step - loss: 1.6266 - accuracy: 0.8490\n",
            "Epoch 11/20\n",
            "1875/1875 [==============================] - 3s 2ms/step - loss: 1.6082 - accuracy: 0.8714\n",
            "Epoch 12/20\n",
            "1875/1875 [==============================] - 4s 2ms/step - loss: 1.5811 - accuracy: 0.9032\n",
            "Epoch 13/20\n",
            "1875/1875 [==============================] - 3s 2ms/step - loss: 1.5714 - accuracy: 0.9104\n",
            "Epoch 14/20\n",
            "1875/1875 [==============================] - 3s 2ms/step - loss: 1.5661 - accuracy: 0.9139\n",
            "Epoch 15/20\n",
            "1875/1875 [==============================] - 3s 2ms/step - loss: 1.5621 - accuracy: 0.9159\n",
            "Epoch 16/20\n",
            "1875/1875 [==============================] - 3s 2ms/step - loss: 1.5589 - accuracy: 0.9180\n",
            "Epoch 17/20\n",
            "1875/1875 [==============================] - 4s 2ms/step - loss: 1.5562 - accuracy: 0.9200\n",
            "Epoch 18/20\n",
            "1875/1875 [==============================] - 4s 2ms/step - loss: 1.5538 - accuracy: 0.9220\n",
            "Epoch 19/20\n",
            "1875/1875 [==============================] - 3s 2ms/step - loss: 1.5516 - accuracy: 0.9229\n",
            "Epoch 20/20\n",
            "1875/1875 [==============================] - 3s 2ms/step - loss: 1.5497 - accuracy: 0.9244\n"
          ],
          "name": "stdout"
        },
        {
          "output_type": "execute_result",
          "data": {
            "text/plain": [
              "<tensorflow.python.keras.callbacks.History at 0x7f15422754a8>"
            ]
          },
          "metadata": {
            "tags": []
          },
          "execution_count": 31
        }
      ]
    },
    {
      "cell_type": "code",
      "metadata": {
        "id": "JEF-eZ-38JVy",
        "colab_type": "code",
        "colab": {
          "base_uri": "https://localhost:8080/",
          "height": 256
        },
        "outputId": "3d7fcfc8-dd9d-4e08-8c18-5c06c54571f3"
      },
      "source": [
        "loss, accuracy = model.evaluate(X_test,y_test)\n",
        "#visualise data\n",
        "%matplotlib inline\n",
        "import matplotlib.pyplot as plt\n",
        "\n",
        "rows = 1\n",
        "cols = 5\n",
        "fig = plt.gcf()\n",
        "fig.set_size_inches(cols*4, rows*4)\n",
        "\n",
        "n = 5\n",
        "test = X_test[:n]\n",
        "pred = model.predict(test)\n",
        "\n",
        "for i in range(n):\n",
        "  sp = plt.subplot(rows, cols, i+1, title = 'Pred = %i' % np.argmax(pred[i]))\n",
        "  sp.axis('Off')\n",
        "  plt.imshow(np.reshape(test[i], [28,28]))\n",
        "\n",
        "plt.show()"
      ],
      "execution_count": 30,
      "outputs": [
        {
          "output_type": "stream",
          "text": [
            "313/313 [==============================] - 0s 1ms/step - loss: 0.1117 - accuracy: 0.9678\n"
          ],
          "name": "stdout"
        },
        {
          "output_type": "display_data",
          "data": {
            "image/png": "[encoded data removed]",
            "text/plain": [
              "<Figure size 1440x288 with 5 Axes>"
            ]
          },
          "metadata": {
            "tags": [],
            "needs_background": "light"
          }
        }
      ]
    }
  ]
}