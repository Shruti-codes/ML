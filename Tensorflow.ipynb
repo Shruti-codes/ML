{
  "nbformat": 4,
  "nbformat_minor": 0,
  "metadata": {
    "colab": {
      "name": "Tensorflow.ipynb",
      "provenance": [],
      "collapsed_sections": [],
      "authorship_tag": "ABX9TyN72za/1xmrxnEIsmFoKuwC",
      "include_colab_link": true
    },
    "kernelspec": {
      "name": "python3",
      "display_name": "Python 3"
    }
  },
  "cells": [
    {
      "cell_type": "markdown",
      "metadata": {
        "id": "view-in-github",
        "colab_type": "text"
      },
      "source": [
        "<a href=\"https://colab.research.google.com/github/Shruti-codes/ML/blob/master/Tensorflow.ipynb\" target=\"_parent\"><img src=\"https://colab.research.google.com/assets/colab-badge.svg\" alt=\"Open In Colab\"/></a>"
      ]
    },
    {
      "cell_type": "code",
      "metadata": {
        "id": "kt4QvryxT79j",
        "colab_type": "code",
        "outputId": "4c2dc278-cde7-4614-b4c0-6092556a9d04",
        "colab": {
          "base_uri": "https://localhost:8080/",
          "height": 34
        }
      },
      "source": [
        "import tensorflow as tf\n",
        "import numpy as np\n",
        "print(tf.__version__)"
      ],
      "execution_count": 13,
      "outputs": [
        {
          "output_type": "stream",
          "text": [
            "2.2.0\n"
          ],
          "name": "stdout"
        }
      ]
    },
    {
      "cell_type": "code",
      "metadata": {
        "id": "vzJwUSJaU5Q3",
        "colab_type": "code",
        "colab": {}
      },
      "source": [
        "hello = tf.constant(\"Hello World\")\n",
        "hello\n",
        "\n",
        "a = tf.constant(2)\n",
        "b = tf.constant(3)\n",
        "\n",
        "c = tf.add(a,b)\n",
        "c\n",
        "\n",
        "mean = tf.reduce_mean([a,b,c])\n",
        "mean\n",
        "\n",
        "sum = tf.reduce_sum([a,b,c])\n"
      ],
      "execution_count": 0,
      "outputs": []
    },
    {
      "cell_type": "code",
      "metadata": {
        "id": "wPr8vj5NV87a",
        "colab_type": "code",
        "outputId": "b107c35d-81f8-466c-cd06-02e9601f5b66",
        "colab": {
          "base_uri": "https://localhost:8080/",
          "height": 68
        }
      },
      "source": [
        "mat1 = tf.constant([[1. , 2.] , [3., 4.]])\n",
        "mat2 = tf.constant([[1. , 2.] , [3., 4.]])\n",
        "mat3 = tf.matmul(mat1, mat2)\n",
        "mat3"
      ],
      "execution_count": 15,
      "outputs": [
        {
          "output_type": "execute_result",
          "data": {
            "text/plain": [
              "<tf.Tensor: shape=(2, 2), dtype=float32, numpy=\n",
              "array([[ 7., 10.],\n",
              "       [15., 22.]], dtype=float32)>"
            ]
          },
          "metadata": {
            "tags": []
          },
          "execution_count": 15
        }
      ]
    },
    {
      "cell_type": "code",
      "metadata": {
        "id": "hHVHAoADYIED",
        "colab_type": "code",
        "outputId": "afaf6733-a8d4-45b8-a1cc-c5953eab5f6f",
        "colab": {
          "base_uri": "https://localhost:8080/",
          "height": 71
        }
      },
      "source": [
        "#Linear Regression\n",
        "\n",
        "#generate data\n",
        "import numpy as np\n",
        "import seaborn\n",
        "X = 2*np.random.rand(100,1) #generate data between 0-2\n",
        "y = 3*X+4 + np.random.randn(100,1)"
      ],
      "execution_count": 16,
      "outputs": [
        {
          "output_type": "stream",
          "text": [
            "/usr/local/lib/python3.6/dist-packages/statsmodels/tools/_testing.py:19: FutureWarning: pandas.util.testing is deprecated. Use the functions in the public API at pandas.testing instead.\n",
            "  import pandas.util.testing as tm\n"
          ],
          "name": "stderr"
        }
      ]
    },
    {
      "cell_type": "code",
      "metadata": {
        "id": "ncZtwjBdYwpZ",
        "colab_type": "code",
        "outputId": "5638503c-2436-42a2-95ef-1816e265995b",
        "colab": {
          "base_uri": "https://localhost:8080/",
          "height": 265
        }
      },
      "source": [
        "#visualise data\n",
        "%matplotlib inline\n",
        "import matplotlib.pyplot as plt\n",
        "\n",
        "plt.scatter(X,y)\n",
        "plt.show()\n",
        "\n",
        "n_samples = 1000\n",
        "batch_size = 50"
      ],
      "execution_count": 17,
      "outputs": [
        {
          "output_type": "display_data",
          "data": {
            "image/png": "[encoded data removed]",
            "text/plain": [
              "<Figure size 432x288 with 1 Axes>"
            ]
          },
          "metadata": {
            "tags": [],
            "needs_background": "light"
          }
        }
      ]
    },
    {
      "cell_type": "code",
      "metadata": {
        "id": "DnLiBrlfZvGi",
        "colab_type": "code",
        "colab": {}
      },
      "source": [
        "#forward function\n",
        "def linear_reg(X,W,b):\n",
        "  return tf.add(tf.multiply(X,W),b)\n",
        "\n",
        "def mean_square(y_pred, y_true):\n",
        "  return tf.reduce_mean(tf.square(y_pred - y_true))"
      ],
      "execution_count": 0,
      "outputs": []
    },
    {
      "cell_type": "code",
      "metadata": {
        "id": "VKHoP7p8mq5C",
        "colab_type": "code",
        "colab": {}
      },
      "source": [
        "W = tf.Variable(np.random.randn(), name=\"weights\")\n",
        "b = tf.Variable(np.random.randn(), \"bias\")\n",
        "\n",
        "optim = tf.keras.optimizers.SGD(learning_rate=0.01, momentum=0.0, nesterov=False, name='SGD')\n",
        "\n",
        "#optimization function\n",
        "def run_optimization(X,y,W,b):\n",
        "  with tf.GradientTape() as g:\n",
        "    pred = linear_reg(X,W,b)\n",
        "    loss = mean_square(pred, y)\n",
        "  \n",
        "  grad = g.gradient(loss, [W,b])    #compute gradient\n",
        "  \n",
        "  optim.apply_gradients(zip(grad, [W,b]))    #update gradient"
      ],
      "execution_count": 0,
      "outputs": []
    },
    {
      "cell_type": "code",
      "metadata": {
        "id": "iQBA53C_kbvz",
        "colab_type": "code",
        "outputId": "8e9d9667-b359-4627-aa5e-da943cf0e8e5",
        "colab": {
          "base_uri": "https://localhost:8080/",
          "height": 357
        }
      },
      "source": [
        "for step in range(1,n_samples+1):\n",
        "  run_optimization(X,y,W,b)\n",
        "\n",
        "  if(step%batch_size==0):\n",
        "    pred = linear_reg(X,W,b)\n",
        "    loss = mean_square(pred,y)\n",
        "    print(\"step = %i , loss = %f , weight = %f , bias = %f\" % (step,loss,W.numpy(),b.numpy()))"
      ],
      "execution_count": 20,
      "outputs": [
        {
          "output_type": "stream",
          "text": [
            "step = 50 , loss = 2.429519 , weight = 4.189540 , bias = 1.883481\n",
            "step = 100 , loss = 1.612667 , weight = 4.314037 , bias = 2.448575\n",
            "step = 150 , loss = 1.427270 , weight = 4.158546 , bias = 2.708533\n",
            "step = 200 , loss = 1.295711 , weight = 3.995894 , bias = 2.906739\n",
            "step = 250 , loss = 1.198772 , weight = 3.852992 , bias = 3.074156\n",
            "step = 300 , loss = 1.127296 , weight = 3.729925 , bias = 3.217607\n",
            "step = 350 , loss = 1.074594 , weight = 3.624210 , bias = 3.340750\n",
            "step = 400 , loss = 1.035736 , weight = 3.533431 , bias = 3.446487\n",
            "step = 450 , loss = 1.007084 , weight = 3.455480 , bias = 3.537282\n",
            "step = 500 , loss = 0.985958 , weight = 3.388544 , bias = 3.615245\n",
            "step = 550 , loss = 0.970381 , weight = 3.331068 , bias = 3.682192\n",
            "step = 600 , loss = 0.958896 , weight = 3.281714 , bias = 3.739676\n",
            "step = 650 , loss = 0.950428 , weight = 3.239335 , bias = 3.789037\n",
            "step = 700 , loss = 0.944184 , weight = 3.202945 , bias = 3.831423\n",
            "step = 750 , loss = 0.939580 , weight = 3.171697 , bias = 3.867818\n",
            "step = 800 , loss = 0.936185 , weight = 3.144866 , bias = 3.899071\n",
            "step = 850 , loss = 0.933682 , weight = 3.121826 , bias = 3.925907\n",
            "step = 900 , loss = 0.931836 , weight = 3.102042 , bias = 3.948950\n",
            "step = 950 , loss = 0.930475 , weight = 3.085054 , bias = 3.968738\n",
            "step = 1000 , loss = 0.929472 , weight = 3.070467 , bias = 3.985728\n"
          ],
          "name": "stdout"
        }
      ]
    },
    {
      "cell_type": "code",
      "metadata": {
        "id": "zss0X06NtaG5",
        "colab_type": "code",
        "outputId": "70e34f56-5556-4e7d-a2de-72cdb7e6eaa5",
        "colab": {
          "base_uri": "https://localhost:8080/",
          "height": 265
        }
      },
      "source": [
        "plt.plot(X,y,\"b.\", label = 'data point')\n",
        "plt.plot(X, linear_reg(X,W,b),\"r-\", label = 'fit line')\n",
        "plt.legend()\n",
        "plt.show()"
      ],
      "execution_count": 21,
      "outputs": [
        {
          "output_type": "display_data",
          "data": {
            "image/png": "[encoded data removed]",
            "text/plain": [
              "<Figure size 432x288 with 1 Axes>"
            ]
          },
          "metadata": {
            "tags": [],
            "needs_background": "light"
          }
        }
      ]
    },
    {
      "cell_type": "code",
      "metadata": {
        "id": "6A88a0KuvUgD",
        "colab_type": "code",
        "colab": {}
      },
      "source": [
        "#Logistic Regression\n",
        "\n",
        "mnist = tf.keras.datasets.mnist\n",
        "(X_train, y_train) , (X_test, y_test) = mnist.load_data()\n",
        "n_class = 10\n",
        "n_feature = 784   #28*28\n",
        "\n",
        "X_train , X_test = np.array(X_train, np.float32) , np.array(X_test , np.float32)\n",
        "X_train, X_test = X_train.reshape([-1,n_feature]) , X_test.reshape([-1,n_feature])\n",
        "X_train , X_test = X_train/255.0 , X_test/255.0"
      ],
      "execution_count": 0,
      "outputs": []
    },
    {
      "cell_type": "code",
      "metadata": {
        "id": "moPfJdpEzQxj",
        "colab_type": "code",
        "colab": {}
      },
      "source": [
        "def logic_reg(X,W,b):\n",
        "  return tf.nn.softmax(tf.add(tf.matmul(X,W),b))\n",
        "\n",
        "def cross_entropy(pred,true):\n",
        "  true = tf.one_hot(true, depth = n_class)\n",
        "  pred = tf.clip_by_value(pred, 1e-9, 1.)\n",
        "\n",
        "  return tf.reduce_mean(-tf.reduce_sum(true*tf.math.log(pred), 1))\n",
        "\n",
        "def accuracy(pred, true):\n",
        "  corr_pred = tf.equal(tf.argmax(pred, 1), tf.cast(true, tf.int64))\n",
        "  return tf.reduce_mean(tf.cast(corr_pred, tf.float32))"
      ],
      "execution_count": 0,
      "outputs": []
    },
    {
      "cell_type": "code",
      "metadata": {
        "id": "uLwk5cBb2diP",
        "colab_type": "code",
        "colab": {}
      },
      "source": [
        "optim = tf.keras.optimizers.SGD(learning_rate=0.01, momentum=0.0, nesterov=False, name='SGD')\n",
        "\n",
        "#optimization function\n",
        "def run_optimization(X,y,W,b):\n",
        "  with tf.GradientTape() as g:\n",
        "    pred = logic_reg(X,W,b)\n",
        "    loss = cross_entropy(pred, y)\n",
        "  \n",
        "  grad = g.gradient(loss, [W,b])    #compute gradient\n",
        "  \n",
        "  optim.apply_gradients(zip(grad, [W,b]))    #update gradient"
      ],
      "execution_count": 0,
      "outputs": []
    },
    {
      "cell_type": "code",
      "metadata": {
        "id": "SxTB6_Yz2vo8",
        "colab_type": "code",
        "outputId": "ede53fd2-429b-43db-cb4c-132bf38c0140",
        "colab": {
          "base_uri": "https://localhost:8080/",
          "height": 357
        }
      },
      "source": [
        "n_samples = 1000\n",
        "batch_size = 256\n",
        "skip = 50\n",
        "\n",
        "train_data = tf.data.Dataset.from_tensor_slices((X_train, y_train))\n",
        "train_data = train_data.repeat().shuffle(5000).batch(batch_size).prefetch(1)\n",
        "\n",
        "W = tf.Variable(tf.ones([n_feature,n_class]), name=\"weights\")\n",
        "b = tf.Variable(tf.zeros([n_class]), \"bias\")\n",
        "\n",
        "for step, (X,y) in enumerate(train_data.take(n_samples),1):\n",
        "  run_optimization(X,y,W,b)\n",
        "\n",
        "  if(step%skip==0):\n",
        "    pred = logic_reg(X,W,b)\n",
        "    loss = cross_entropy(pred,y)\n",
        "    acc = accuracy(pred,y)\n",
        "    print(\"step = %i , loss = %f , acc = %f\" % (step,loss,acc))"
      ],
      "execution_count": 25,
      "outputs": [
        {
          "output_type": "stream",
          "text": [
            "step = 50 , loss = 1.850030 , acc = 0.781250\n",
            "step = 100 , loss = 1.549331 , acc = 0.753906\n",
            "step = 150 , loss = 1.359890 , acc = 0.796875\n",
            "step = 200 , loss = 1.134130 , acc = 0.851562\n",
            "step = 250 , loss = 1.060161 , acc = 0.843750\n",
            "step = 300 , loss = 1.039527 , acc = 0.832031\n",
            "step = 350 , loss = 0.973459 , acc = 0.816406\n",
            "step = 400 , loss = 0.908185 , acc = 0.808594\n",
            "step = 450 , loss = 0.782708 , acc = 0.863281\n",
            "step = 500 , loss = 0.787786 , acc = 0.816406\n",
            "step = 550 , loss = 0.778172 , acc = 0.871094\n",
            "step = 600 , loss = 0.730400 , acc = 0.835938\n",
            "step = 650 , loss = 0.727983 , acc = 0.859375\n",
            "step = 700 , loss = 0.629135 , acc = 0.878906\n",
            "step = 750 , loss = 0.625819 , acc = 0.863281\n",
            "step = 800 , loss = 0.662853 , acc = 0.863281\n",
            "step = 850 , loss = 0.638752 , acc = 0.878906\n",
            "step = 900 , loss = 0.621170 , acc = 0.867188\n",
            "step = 950 , loss = 0.548429 , acc = 0.914062\n",
            "step = 1000 , loss = 0.602451 , acc = 0.867188\n"
          ],
          "name": "stdout"
        }
      ]
    },
    {
      "cell_type": "code",
      "metadata": {
        "id": "XN-D1yobvZkt",
        "colab_type": "code",
        "outputId": "b761d088-dae0-4802-a119-f8409a5d0951",
        "colab": {
          "base_uri": "https://localhost:8080/",
          "height": 34
        }
      },
      "source": [
        "pred = logic_reg(X_test, W,b)\n",
        "print(\"Accuracy = %f\" %accuracy(pred, y_test))"
      ],
      "execution_count": 26,
      "outputs": [
        {
          "output_type": "stream",
          "text": [
            "Accuracy = 0.870600\n"
          ],
          "name": "stdout"
        }
      ]
    },
    {
      "cell_type": "code",
      "metadata": {
        "id": "1O1Fok_hyfEb",
        "colab_type": "code",
        "colab": {
          "base_uri": "https://localhost:8080/",
          "height": 239
        },
        "outputId": "cd3b9636-26e6-443e-f3a8-cccfd8ba7995"
      },
      "source": [
        "#visualise data\n",
        "%matplotlib inline\n",
        "import matplotlib.pyplot as plt\n",
        "\n",
        "rows = 1\n",
        "cols = 5\n",
        "fig = plt.gcf()\n",
        "fig.set_size_inches(cols*4, rows*4)\n",
        "\n",
        "n = 5\n",
        "test = X_test[:n]\n",
        "pred = logic_reg(test, W,b)\n",
        "\n",
        "for i in range(n):\n",
        "  sp = plt.subplot(rows, cols, i+1, title = 'Pred = %i' % np.argmax(pred.numpy()[i]))\n",
        "  sp.axis('Off')\n",
        "  plt.imshow(np.reshape(test[i], [28,28]))\n",
        "\n",
        "plt.show()"
      ],
      "execution_count": 32,
      "outputs": [
        {
          "output_type": "display_data",
          "data": {
            "image/png": "[encoded data removed]",
            "text/plain": [
              "<Figure size 1440x288 with 5 Axes>"
            ]
          },
          "metadata": {
            "tags": [],
            "needs_background": "light"
          }
        }
      ]
    },
    {
      "cell_type": "code",
      "metadata": {
        "id": "CoEMTSy60_Ma",
        "colab_type": "code",
        "colab": {}
      },
      "source": [
        "#Neural Networks"
      ],
      "execution_count": 0,
      "outputs": []
    }
  ]
}